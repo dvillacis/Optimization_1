{
 "cells": [
  {
   "cell_type": "markdown",
   "metadata": {},
   "source": [
    "# Logistic Regression to Identify Handwritten Digits\n",
    "In this notebook we will use logistic regression to identify handwritten objects, the dataset to be used is the famous MNIST developed by Yan Le Cunn and is used as a benchmark to test performance of classification algorithms. The dataset and its description can be downloaded [here](http://yann.lecun.com/exdb/mnist/)"
   ]
  },
  {
   "cell_type": "code",
   "execution_count": 1,
   "metadata": {
    "collapsed": true
   },
   "outputs": [],
   "source": [
    "from __future__ import absolute_import, division, print_function\n",
    "import os\n",
    "import platform\n",
    "import numpy as np\n",
    "import matplotlib.pyplot as plt\n",
    "import tensorflow as tf"
   ]
  },
  {
   "cell_type": "markdown",
   "metadata": {},
   "source": [
    "## Dataset Description\n",
    "This dataset consist of 28x28 px grayscale images, this images are vectorized, e.g., each row of a matrix in conacatenated so that the image can be represented as a 784 dimensional vector. The original dataset contains digits from 0 to 9."
   ]
  },
  {
   "cell_type": "markdown",
   "metadata": {},
   "source": [
    "## Importing Training Dataset\n",
    "The files are stored in a compressed format, and we have a different file for the features (784) and the labels (0-9)."
   ]
  },
  {
   "cell_type": "code",
   "execution_count": 2,
   "metadata": {
    "collapsed": true
   },
   "outputs": [],
   "source": [
    "def read_mnist_images(filename):\n",
    "    import struct\n",
    "    import gzip\n",
    "    with gzip.open(filename) as f:\n",
    "        buf = f.read(16)\n",
    "        magic, n_items, xsize, ysize = struct.unpack(\">iiii\", buf)\n",
    "        assert magic == 2051\n",
    "        n_features = xsize*ysize\n",
    "        data = np.zeros((n_items, n_features), dtype=np.uint8)\n",
    "        for i in range(n_items):\n",
    "            buf = f.read(n_features)\n",
    "            x = struct.unpack(\"B\"*n_features, buf)\n",
    "            data[i, :] = x\n",
    "    return data\n",
    "\n",
    "def read_mnist_labels(filename):\n",
    "    import struct\n",
    "    import gzip\n",
    "    with gzip.open(filename) as f:\n",
    "        buf = f.read(8)\n",
    "        magic, n_items = struct.unpack(\">ii\", buf)\n",
    "        assert magic == 2049\n",
    "        data = np.zeros(n_items, dtype=np.uint8)\n",
    "        buf = f.read(n_items)\n",
    "        data[:] = struct.unpack(\"B\"*n_items, buf)\n",
    "    return data\n",
    "\n",
    "mnist_features = read_mnist_images('train-images-idx3-ubyte.gz')\n",
    "mnist_labels = read_mnist_labels('train-labels-idx1-ubyte.gz')\n",
    "test_mnist_features = read_mnist_images('t10k-images-idx3-ubyte.gz')\n",
    "test_mnist_labels = read_mnist_labels('t10k-labels-idx1-ubyte.gz')"
   ]
  },
  {
   "cell_type": "markdown",
   "metadata": {},
   "source": [
    "## Displaying some sample data"
   ]
  },
  {
   "cell_type": "code",
   "execution_count": 18,
   "metadata": {},
   "outputs": [
    {
     "name": "stdout",
     "output_type": "stream",
     "text": [
      "[8]\n"
     ]
    },
    {
     "data": {
      "image/png": "[encoded data removed]",
      "text/plain": [
       "<matplotlib.figure.Figure at 0x113389c90>"
      ]
     },
     "metadata": {},
     "output_type": "display_data"
    }
   ],
   "source": [
    "img_num = np.random.randint(mnist_features.shape[0], size=1)\n",
    "image_test = mnist_features[img_num].reshape((28,28))\n",
    "imgplot = plt.imshow(image_test, cmap=\"gray\")\n",
    "print(mnist_labels[img_num])\n",
    "plt.show()"
   ]
  },
  {
   "cell_type": "markdown",
   "metadata": {},
   "source": [
    "Add a column of ones to the features to act as an intercept term"
   ]
  },
  {
   "cell_type": "code",
   "execution_count": 19,
   "metadata": {
    "collapsed": true
   },
   "outputs": [],
   "source": [
    "mnist_features = np.c_[np.ones(mnist_features.shape[0]), mnist_features]"
   ]
  },
  {
   "cell_type": "markdown",
   "metadata": {},
   "source": [
    "We need to hot encode the labels, e.g., to transform a digit (0-9) to a binary vector"
   ]
  },
  {
   "cell_type": "code",
   "execution_count": 20,
   "metadata": {
    "collapsed": true
   },
   "outputs": [],
   "source": [
    "mnist_labels_he = np.eye(10)[mnist_labels]"
   ]
  },
  {
   "cell_type": "markdown",
   "metadata": {},
   "source": [
    "## Training Parameters"
   ]
  },
  {
   "cell_type": "code",
   "execution_count": 21,
   "metadata": {
    "collapsed": true
   },
   "outputs": [],
   "source": [
    "learning_rate = 0.1\n",
    "training_epochs = 100\n",
    "cost_history = np.empty(shape=[1],dtype=float)\n",
    "display_step = 10"
   ]
  },
  {
   "cell_type": "markdown",
   "metadata": {},
   "source": [
    "## Variables and placeholders"
   ]
  },
  {
   "cell_type": "code",
   "execution_count": 22,
   "metadata": {
    "collapsed": true
   },
   "outputs": [],
   "source": [
    "n_dim = mnist_features.shape[1]\n",
    "x = tf.placeholder(tf.float32, shape=mnist_features.shape, name=\"x\") # MNIST data image 28x28 px\n",
    "y = tf.placeholder(tf.float32, shape=mnist_labels_he.shape, name=\"y\") # Hot encoded bit\n",
    "W = tf.Variable(tf.zeros([n_dim,10]))"
   ]
  },
  {
   "cell_type": "markdown",
   "metadata": {},
   "source": [
    "## Define the model"
   ]
  },
  {
   "cell_type": "code",
   "execution_count": 23,
   "metadata": {
    "collapsed": true
   },
   "outputs": [],
   "source": [
    "pred = tf.matmul(x,W)\n",
    "cost = tf.reduce_mean(tf.nn.softmax_cross_entropy_with_logits(labels=y, logits=pred))\n",
    "optimizer = tf.train.GradientDescentOptimizer(learning_rate).minimize(cost)\n",
    "init = tf.global_variables_initializer()"
   ]
  },
  {
   "cell_type": "markdown",
   "metadata": {},
   "source": [
    "## Training Time"
   ]
  },
  {
   "cell_type": "code",
   "execution_count": 24,
   "metadata": {},
   "outputs": [
    {
     "name": "stdout",
     "output_type": "stream",
     "text": [
      "Epoch: 0010 cost= 11927.2\n",
      "Epoch: 0020 cost= 1212.11\n",
      "Epoch: 0030 cost= 864.03\n",
      "Epoch: 0040 cost= 1153.68\n",
      "Epoch: 0050 cost= 1343.2\n",
      "Epoch: 0060 cost= 4223.75\n",
      "Epoch: 0070 cost= 616.448\n",
      "Epoch: 0080 cost= 533.441\n",
      "Epoch: 0090 cost= 3678.59\n",
      "Epoch: 0100 cost= 644.591\n",
      "Optimization Finished!\n"
     ]
    }
   ],
   "source": [
    "sess = tf.Session()\n",
    "sess.run(init)\n",
    "\n",
    "for epoch in range(training_epochs):\n",
    "    sess.run(optimizer, feed_dict={x:mnist_features,y:mnist_labels_he})\n",
    "    c = sess.run(cost, feed_dict={x:mnist_features,y:mnist_labels_he})\n",
    "    cost_history = np.append(cost_history, c)\n",
    "    y_pred = sess.run(pred, feed_dict={x:mnist_features})\n",
    "    if (epoch+1) % display_step == 0:\n",
    "        print(\"Epoch:\",'%04d' % (epoch+1), \"cost=\", c)\n",
    "print (\"Optimization Finished!\")"
   ]
  },
  {
   "cell_type": "code",
   "execution_count": 25,
   "metadata": {},
   "outputs": [
    {
     "data": {
      "image/png": "[encoded data removed]",
      "text/plain": [
       "<matplotlib.figure.Figure at 0x113238ad0>"
      ]
     },
     "metadata": {},
     "output_type": "display_data"
    }
   ],
   "source": [
    "plt.plot(range(training_epochs), cost_history[1:])\n",
    "plt.show()"
   ]
  },
  {
   "cell_type": "code",
   "execution_count": 26,
   "metadata": {},
   "outputs": [
    {
     "name": "stdout",
     "output_type": "stream",
     "text": [
      "89.7416651249 %\n"
     ]
    }
   ],
   "source": [
    "predictions = sess.run(tf.nn.softmax(tf.matmul(x,W)), feed_dict={x:mnist_features})\n",
    "correct = tf.equal(tf.argmax(predictions,1), tf.argmax(mnist_labels_he,1))\n",
    "accuracy = tf.reduce_mean(tf.cast(correct, tf.float32))\n",
    "print(sess.run(accuracy)*100,\"%\")"
   ]
  },
  {
   "cell_type": "code",
   "execution_count": 53,
   "metadata": {},
   "outputs": [
    {
     "ename": "IndexError",
     "evalue": "index 10616 is out of bounds for axis 0 with size 10000",
     "output_type": "error",
     "traceback": [
      "\u001b[0;31m---------------------------------------------------------------------------\u001b[0m",
      "\u001b[0;31mIndexError\u001b[0m                                Traceback (most recent call last)",
      "\u001b[0;32m<ipython-input-53-ddeb0511a3b0>\u001b[0m in \u001b[0;36m<module>\u001b[0;34m()\u001b[0m\n\u001b[1;32m      2\u001b[0m \u001b[0mimage_test\u001b[0m \u001b[0;34m=\u001b[0m \u001b[0mmnist_features\u001b[0m\u001b[0;34m[\u001b[0m\u001b[0mimg_num\u001b[0m\u001b[0;34m,\u001b[0m\u001b[0;36m1\u001b[0m\u001b[0;34m:\u001b[0m\u001b[0;34m]\u001b[0m\u001b[0;34m.\u001b[0m\u001b[0mreshape\u001b[0m\u001b[0;34m(\u001b[0m\u001b[0;34m(\u001b[0m\u001b[0;36m28\u001b[0m\u001b[0;34m,\u001b[0m\u001b[0;36m28\u001b[0m\u001b[0;34m)\u001b[0m\u001b[0;34m)\u001b[0m\u001b[0;34m\u001b[0m\u001b[0m\n\u001b[1;32m      3\u001b[0m \u001b[0mimgplot\u001b[0m \u001b[0;34m=\u001b[0m \u001b[0mplt\u001b[0m\u001b[0;34m.\u001b[0m\u001b[0mimshow\u001b[0m\u001b[0;34m(\u001b[0m\u001b[0mimage_test\u001b[0m\u001b[0;34m,\u001b[0m\u001b[0mcmap\u001b[0m\u001b[0;34m=\u001b[0m\u001b[0;34m\"gray\"\u001b[0m\u001b[0;34m)\u001b[0m\u001b[0;34m\u001b[0m\u001b[0m\n\u001b[0;32m----> 4\u001b[0;31m \u001b[0;32mprint\u001b[0m\u001b[0;34m(\u001b[0m\u001b[0mnp\u001b[0m\u001b[0;34m.\u001b[0m\u001b[0margmax\u001b[0m\u001b[0;34m(\u001b[0m\u001b[0mpredictions\u001b[0m\u001b[0;34m[\u001b[0m\u001b[0mimg_num\u001b[0m\u001b[0;34m]\u001b[0m\u001b[0;34m)\u001b[0m\u001b[0;34m,\u001b[0m \u001b[0mmnist_labels\u001b[0m\u001b[0;34m[\u001b[0m\u001b[0mimg_num\u001b[0m\u001b[0;34m]\u001b[0m\u001b[0;34m)\u001b[0m\u001b[0;34m\u001b[0m\u001b[0m\n\u001b[0m\u001b[1;32m      5\u001b[0m \u001b[0mplt\u001b[0m\u001b[0;34m.\u001b[0m\u001b[0mshow\u001b[0m\u001b[0;34m(\u001b[0m\u001b[0;34m)\u001b[0m\u001b[0;34m\u001b[0m\u001b[0m\n",
      "\u001b[0;31mIndexError\u001b[0m: index 10616 is out of bounds for axis 0 with size 10000"
     ]
    }
   ],
   "source": [
    "img_num = np.random.randint(mnist_features.shape[0], size=1)\n",
    "image_test = mnist_features[img_num,1:].reshape((28,28))\n",
    "imgplot = plt.imshow(image_test,cmap=\"gray\")\n",
    "print(np.argmax(predictions[img_num]), mnist_labels[img_num])\n",
    "plt.show()"
   ]
  },
  {
   "cell_type": "markdown",
   "metadata": {},
   "source": [
    "## Testing"
   ]
  },
  {
   "cell_type": "code",
   "execution_count": 51,
   "metadata": {
    "collapsed": true
   },
   "outputs": [],
   "source": [
    "test_mnist_features = np.c_[np.ones(test_mnist_features.shape[0]), test_mnist_features]\n",
    "test_mnist_labels_he = np.eye(10)[test_mnist_labels]"
   ]
  },
  {
   "cell_type": "code",
   "execution_count": 52,
   "metadata": {},
   "outputs": [
    {
     "name": "stdout",
     "output_type": "stream",
     "text": [
      "89.9699985981 %\n"
     ]
    }
   ],
   "source": [
    "x_test = tf.placeholder(tf.float32, shape=test_mnist_features.shape, name=\"x_test\")\n",
    "predictions = sess.run(tf.nn.softmax(tf.matmul(x_test,W)), feed_dict={x_test:test_mnist_features})\n",
    "correct = tf.equal(tf.argmax(predictions,1), tf.argmax(test_mnist_labels_he,1))\n",
    "accuracy = tf.reduce_mean(tf.cast(correct, tf.float32))\n",
    "print(sess.run(accuracy)*100,\"%\")"
   ]
  },
  {
   "cell_type": "code",
   "execution_count": null,
   "metadata": {
    "collapsed": true
   },
   "outputs": [],
   "source": []
  },
  {
   "cell_type": "code",
   "execution_count": null,
   "metadata": {
    "collapsed": true
   },
   "outputs": [],
   "source": []
  }
 ],
 "metadata": {
  "kernelspec": {
   "display_name": "Python 2",
   "language": "python",
   "name": "python2"
  },
  "language_info": {
   "codemirror_mode": {
    "name": "ipython",
    "version": 2
   },
   "file_extension": ".py",
   "mimetype": "text/x-python",
   "name": "python",
   "nbconvert_exporter": "python",
   "pygments_lexer": "ipython2",
   "version": "2.7.10"
  }
 },
 "nbformat": 4,
 "nbformat_minor": 2
}
