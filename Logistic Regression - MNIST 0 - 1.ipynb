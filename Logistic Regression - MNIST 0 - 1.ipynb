{
 "cells": [
  {
   "cell_type": "markdown",
   "metadata": {
    "deletable": true,
    "editable": true
   },
   "source": [
    "# Logistic Regression to Identify Handwritten Digits\n",
    "In this notebook we will use logistic regression to identify handwritten objects, the dataset to be used is the famous MNIST developed by Yan Le Cunn and is used as a benchmark to test performance of classification algorithms. The dataset and its description can be downloaded [here](http://yann.lecun.com/exdb/mnist/)"
   ]
  },
  {
   "cell_type": "code",
   "execution_count": 1,
   "metadata": {
    "collapsed": true,
    "deletable": true,
    "editable": true
   },
   "outputs": [],
   "source": [
    "from __future__ import absolute_import, division, print_function\n",
    "import os\n",
    "import platform\n",
    "import numpy as np\n",
    "import tensorflow as tf"
   ]
  },
  {
   "cell_type": "markdown",
   "metadata": {
    "deletable": true,
    "editable": true
   },
   "source": [
    "## Dataset Description\n",
    "This dataset consist of 28x28 px grayscale images, this images are vectorized, e.g., each row of a matrix in conacatenated so that the image can be represented as a 784 dimensional vector. The original dataset contains digits from 0 to 9, then it will be necessary to import only the samples labelled with 0 or 1."
   ]
  },
  {
   "cell_type": "markdown",
   "metadata": {
    "deletable": true,
    "editable": true
   },
   "source": [
    "## Importing Training Dataset\n",
    "The files are stored in a compressed format, and we have a different file for the features (784) and the labels (0-1)."
   ]
  },
  {
   "cell_type": "code",
   "execution_count": 2,
   "metadata": {
    "collapsed": false,
    "deletable": true,
    "editable": true
   },
   "outputs": [],
   "source": [
    "def read_mnist_images(filename):\n",
    "    import struct\n",
    "    import gzip\n",
    "    with gzip.open(filename) as f:\n",
    "        buf = f.read(16)\n",
    "        magic, n_items, xsize, ysize = struct.unpack(\">iiii\", buf)\n",
    "        assert magic == 2051\n",
    "        n_features = xsize*ysize\n",
    "        data = np.zeros((n_items, n_features), dtype=np.uint8)\n",
    "        for i in range(n_items):\n",
    "            buf = f.read(n_features)\n",
    "            x = struct.unpack(\"B\"*n_features, buf)\n",
    "            data[i, :] = x\n",
    "    return data\n",
    "\n",
    "def read_mnist_labels(filename):\n",
    "    import struct\n",
    "    import gzip\n",
    "    with gzip.open(filename) as f:\n",
    "        buf = f.read(8)\n",
    "        magic, n_items = struct.unpack(\">ii\", buf)\n",
    "        assert magic == 2049\n",
    "        data = np.zeros(n_items, dtype=np.uint8)\n",
    "        buf = f.read(n_items)\n",
    "        data[:] = struct.unpack(\"B\"*n_items, buf)\n",
    "    return data\n",
    "\n",
    "mnist_features = read_mnist_images('train-images-idx3-ubyte.gz')\n",
    "mnist_labels = read_mnist_labels('train-labels-idx1-ubyte.gz')\n",
    "test_mnist_features = read_mnist_images('t10k-images-idx3-ubyte.gz')\n",
    "test_mnist_labels = read_mnist_labels('t10k-labels-idx1-ubyte.gz')"
   ]
  },
  {
   "cell_type": "markdown",
   "metadata": {
    "deletable": true,
    "editable": true
   },
   "source": [
    "## Displaying some sample data"
   ]
  },
  {
   "cell_type": "code",
   "execution_count": 11,
   "metadata": {
    "collapsed": false,
    "deletable": true,
    "editable": true
   },
   "outputs": [
    {
     "name": "stdout",
     "output_type": "stream",
     "text": [
      "[3]\n"
     ]
    },
    {
     "data": {
      "image/png": "[encoded data removed]",
      "text/plain": [
       "<matplotlib.figure.Figure at 0x1114f0d90>"
      ]
     },
     "metadata": {},
     "output_type": "display_data"
    }
   ],
   "source": [
    "import matplotlib.pyplot as plt\n",
    "img_num = np.random.randint(mnist_features.shape[0], size=1)\n",
    "image_test = mnist_features[img_num].reshape((28,28))\n",
    "imgplot = plt.imshow(image_test, cmap=\"gray\")\n",
    "print(mnist_labels[img_num])\n",
    "plt.show()"
   ]
  },
  {
   "cell_type": "raw",
   "metadata": {
    "deletable": true,
    "editable": true
   },
   "source": [
    "Next, we filter the data so that we are left only with the ones and zeros."
   ]
  },
  {
   "cell_type": "code",
   "execution_count": 12,
   "metadata": {
    "collapsed": false,
    "deletable": true,
    "editable": true
   },
   "outputs": [
    {
     "name": "stdout",
     "output_type": "stream",
     "text": [
      "(12665, 1) (12665, 784)\n",
      "(2115, 1) (2115, 784)\n"
     ]
    },
    {
     "name": "stderr",
     "output_type": "stream",
     "text": [
      "/Users/david/PythonEnv/opecv_tensorflow/lib/python2.7/site-packages/ipykernel/__main__.py:6: VisibleDeprecationWarning: boolean index did not match indexed array along dimension 0; dimension is 60000 but corresponding boolean dimension is 10000\n",
      "/Users/david/PythonEnv/opecv_tensorflow/lib/python2.7/site-packages/ipykernel/__main__.py:8: VisibleDeprecationWarning: boolean index did not match indexed array along dimension 0; dimension is 60000 but corresponding boolean dimension is 10000\n"
     ]
    }
   ],
   "source": [
    "zero_one_indices = (mnist_labels == 1) + (mnist_labels == 0)\n",
    "test_zero_one_indices = (test_mnist_labels == 1) + (test_mnist_labels == 0)\n",
    "mnist_labels_binary = mnist_labels[zero_one_indices]\n",
    "mnist_labels_binary = mnist_labels_binary.reshape((mnist_labels_binary.shape[0],1))\n",
    "mnist_features_binary = mnist_features[zero_one_indices]\n",
    "test_mnist_labels_binary = mnist_labels[test_zero_one_indices]\n",
    "test_mnist_labels_binary = test_mnist_labels_binary.reshape((test_mnist_labels_binary.shape[0],1))\n",
    "test_mnist_features_binary = mnist_features[test_zero_one_indices]\n",
    "print(mnist_labels_binary.shape, mnist_features_binary.shape)\n",
    "print(test_mnist_labels_binary.shape, test_mnist_features_binary.shape)"
   ]
  },
  {
   "cell_type": "code",
   "execution_count": 23,
   "metadata": {
    "collapsed": false,
    "deletable": true,
    "editable": true
   },
   "outputs": [
    {
     "name": "stdout",
     "output_type": "stream",
     "text": [
      "[[0]]\n"
     ]
    },
    {
     "data": {
      "image/png": "[encoded data removed]",
      "text/plain": [
       "<matplotlib.figure.Figure at 0x1125d6850>"
      ]
     },
     "metadata": {},
     "output_type": "display_data"
    }
   ],
   "source": [
    "img_num = np.random.randint(mnist_features_binary.shape[0], size=1)\n",
    "image_test = mnist_features_binary[img_num].reshape((28,28))\n",
    "imgplot = plt.imshow(image_test,cmap=\"gray\")\n",
    "print(mnist_labels_binary[img_num])\n",
    "plt.show()"
   ]
  },
  {
   "cell_type": "markdown",
   "metadata": {
    "deletable": true,
    "editable": true
   },
   "source": [
    "Add a column of ones to the features to act as an intercept term"
   ]
  },
  {
   "cell_type": "code",
   "execution_count": 24,
   "metadata": {
    "collapsed": true,
    "deletable": true,
    "editable": true
   },
   "outputs": [],
   "source": [
    "mnist_features_binary = np.c_[np.ones(mnist_features_binary.shape[0]), mnist_features_binary]\n",
    "test_mnist_features_binary = np.c_[np.ones(test_mnist_features_binary.shape[0]), test_mnist_features_binary]"
   ]
  },
  {
   "cell_type": "markdown",
   "metadata": {
    "deletable": true,
    "editable": true
   },
   "source": [
    "## Training Parameters"
   ]
  },
  {
   "cell_type": "code",
   "execution_count": 25,
   "metadata": {
    "collapsed": true,
    "deletable": true,
    "editable": true
   },
   "outputs": [],
   "source": [
    "learning_rate = 0.001\n",
    "training_epochs = 50\n",
    "cost_history = np.empty(shape=[1],dtype=float)\n",
    "display_step = 5"
   ]
  },
  {
   "cell_type": "markdown",
   "metadata": {
    "deletable": true,
    "editable": true
   },
   "source": [
    "## Variables and placeholders"
   ]
  },
  {
   "cell_type": "code",
   "execution_count": 26,
   "metadata": {
    "collapsed": false,
    "deletable": true,
    "editable": true
   },
   "outputs": [],
   "source": [
    "n_dim = mnist_features_binary.shape[1]\n",
    "x = tf.placeholder(tf.float32, shape=mnist_features_binary.shape, name=\"x\") # MNIST data image 28x28 px\n",
    "y = tf.placeholder(tf.float32, shape=mnist_labels_binary.shape, name=\"y\") # Recognize 2 types of digits 0 or 1\n",
    "W = tf.Variable(tf.zeros([n_dim,1]))"
   ]
  },
  {
   "cell_type": "markdown",
   "metadata": {
    "deletable": true,
    "editable": true
   },
   "source": [
    "## Define the model"
   ]
  },
  {
   "cell_type": "code",
   "execution_count": 27,
   "metadata": {
    "collapsed": false,
    "deletable": true,
    "editable": true
   },
   "outputs": [],
   "source": [
    "pred = tf.matmul(x,W)\n",
    "cost = tf.reduce_mean(tf.nn.sigmoid_cross_entropy_with_logits(labels=y, logits=pred))\n",
    "optimizer = tf.train.GradientDescentOptimizer(learning_rate).minimize(cost)\n",
    "init = tf.global_variables_initializer()"
   ]
  },
  {
   "cell_type": "markdown",
   "metadata": {
    "deletable": true,
    "editable": true
   },
   "source": [
    "## Training Time"
   ]
  },
  {
   "cell_type": "code",
   "execution_count": 28,
   "metadata": {
    "collapsed": false,
    "deletable": true,
    "editable": true
   },
   "outputs": [
    {
     "name": "stdout",
     "output_type": "stream",
     "text": [
      "Epoch: 0005 cost= 0.460649\n",
      "Epoch: 0010 cost= 0.313321\n",
      "Epoch: 0015 cost= 0.262155\n",
      "Epoch: 0020 cost= 0.237857\n",
      "Epoch: 0025 cost= 0.222398\n",
      "Epoch: 0030 cost= 0.209262\n",
      "Epoch: 0035 cost= 0.197902\n",
      "Epoch: 0040 cost= 0.186962\n",
      "Epoch: 0045 cost= 0.176531\n",
      "Epoch: 0050 cost= 0.166579\n",
      "Optimization Finished!\n"
     ]
    }
   ],
   "source": [
    "sess = tf.Session()\n",
    "sess.run(init)\n",
    "\n",
    "for epoch in range(training_epochs):\n",
    "    sess.run(optimizer, feed_dict={x:mnist_features_binary,y:mnist_labels_binary})\n",
    "    c = sess.run(cost, feed_dict={x:mnist_features_binary,y:mnist_labels_binary})\n",
    "    cost_history = np.append(cost_history, c)\n",
    "    y_pred = sess.run(pred, feed_dict={x:mnist_features_binary})\n",
    "    if (epoch+1) % display_step == 0:\n",
    "        print(\"Epoch:\",'%04d' % (epoch+1), \"cost=\", c)\n",
    "print (\"Optimization Finished!\")"
   ]
  },
  {
   "cell_type": "code",
   "execution_count": 29,
   "metadata": {
    "collapsed": false,
    "deletable": true,
    "editable": true
   },
   "outputs": [
    {
     "data": {
      "image/png": "[encoded data removed]",
      "text/plain": [
       "<matplotlib.figure.Figure at 0x11150fc10>"
      ]
     },
     "metadata": {},
     "output_type": "display_data"
    }
   ],
   "source": [
    "import matplotlib.pyplot as plt\n",
    "plt.plot(range(training_epochs), cost_history[1:])\n",
    "plt.show()"
   ]
  },
  {
   "cell_type": "code",
   "execution_count": 30,
   "metadata": {
    "collapsed": false,
    "deletable": true,
    "editable": true
   },
   "outputs": [
    {
     "name": "stdout",
     "output_type": "stream",
     "text": [
      "99.5341479778 %\n"
     ]
    }
   ],
   "source": [
    "predictions = sess.run(tf.nn.sigmoid(tf.matmul(x,W)), feed_dict={x:mnist_features_binary})\n",
    "correct = tf.equal(predictions,mnist_labels_binary)\n",
    "accuracy = tf.reduce_mean(tf.cast(correct, tf.float32))\n",
    "print(sess.run(accuracy)*100,\"%\")"
   ]
  },
  {
   "cell_type": "code",
   "execution_count": 34,
   "metadata": {
    "collapsed": false,
    "deletable": true,
    "editable": true
   },
   "outputs": [
    {
     "name": "stdout",
     "output_type": "stream",
     "text": [
      "(12665, 784)\n"
     ]
    }
   ],
   "source": [
    "print(mnist_features_binary[:,1:].shape)"
   ]
  },
  {
   "cell_type": "code",
   "execution_count": 38,
   "metadata": {
    "collapsed": false,
    "deletable": true,
    "editable": true
   },
   "outputs": [
    {
     "name": "stdout",
     "output_type": "stream",
     "text": [
      "[[ 1.]]\n"
     ]
    },
    {
     "data": {
      "image/png": "[encoded data removed]",
      "text/plain": [
       "<matplotlib.figure.Figure at 0x111482b50>"
      ]
     },
     "metadata": {},
     "output_type": "display_data"
    }
   ],
   "source": [
    "img_num = np.random.randint(mnist_features_binary.shape[0], size=1)\n",
    "image_test = mnist_features_binary[img_num,1:].reshape((28,28))\n",
    "imgplot = plt.imshow(image_test,cmap=\"gray\")\n",
    "print(predictions[img_num])\n",
    "plt.show()"
   ]
  },
  {
   "cell_type": "markdown",
   "metadata": {
    "deletable": true,
    "editable": true
   },
   "source": [
    "## Testing"
   ]
  },
  {
   "cell_type": "code",
   "execution_count": 82,
   "metadata": {
    "collapsed": false,
    "deletable": true,
    "editable": true
   },
   "outputs": [
    {
     "name": "stdout",
     "output_type": "stream",
     "text": [
      "20.614656806 %\n"
     ]
    }
   ],
   "source": [
    "x_test = tf.placeholder(tf.float32, shape=test_mnist_features_binary.shape, name=\"x_test\")\n",
    "predictions = sess.run(tf.nn.sigmoid(tf.matmul(x_test,W)), feed_dict={x_test:test_mnist_features_binary})\n",
    "correct = tf.equal(predictions,test_mnist_labels_binary)\n",
    "accuracy = tf.reduce_mean(tf.cast(correct, tf.float32))\n",
    "print(sess.run(accuracy)*100,\"%\")"
   ]
  },
  {
   "cell_type": "code",
   "execution_count": null,
   "metadata": {
    "collapsed": true,
    "deletable": true,
    "editable": true
   },
   "outputs": [],
   "source": []
  },
  {
   "cell_type": "code",
   "execution_count": null,
   "metadata": {
    "collapsed": true,
    "deletable": true,
    "editable": true
   },
   "outputs": [],
   "source": []
  }
 ],
 "metadata": {
  "kernelspec": {
   "display_name": "Python 2",
   "language": "python",
   "name": "python2"
  },
  "language_info": {
   "codemirror_mode": {
    "name": "ipython",
    "version": 2
   },
   "file_extension": ".py",
   "mimetype": "text/x-python",
   "name": "python",
   "nbconvert_exporter": "python",
   "pygments_lexer": "ipython2",
   "version": "2.7.10"
  }
 },
 "nbformat": 4,
 "nbformat_minor": 2
}
